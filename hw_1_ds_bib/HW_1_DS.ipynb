{
 "cells": [
  {
   "cell_type": "markdown",
   "id": "989fac21-08bd-43e1-b752-72447919f5ad",
   "metadata": {},
   "source": [
    "##Тема “Вычисления с помощью Numpy”"
   ]
  },
  {
   "cell_type": "markdown",
   "id": "22fc2337-4681-408c-a225-9b577b4bdaac",
   "metadata": {},
   "source": [
    "Задание 1\n",
    "Создайте массив Numpy под названием a размером 5x2, то есть состоящий из 5 строк и 2 столбцов. Первый столбец должен содержать числа 1, 2, 3, 3, 1, а второй - числа 6, 8, 11, 10, 7. Будем считать, что каждый столбец - это признак, а строка - наблюдение. Затем найдите среднее значение по каждому признаку, используя метод mean массива Numpy. Результат запишите в массив mean_a, в нем должно быть 2 элемента."
   ]
  },
  {
   "cell_type": "code",
   "execution_count": 3,
   "id": "4e145e11-310c-4e70-9c4b-baf71ee71e0d",
   "metadata": {
    "tags": []
   },
   "outputs": [
    {
     "name": "stdout",
     "output_type": "stream",
     "text": [
      "[2.  8.4]\n"
     ]
    }
   ],
   "source": [
    "import numpy as np\n",
    "\n",
    "# Создание массива a размером 5x2\n",
    "a = np.array([[1, 6],\n",
    "              [2, 8],\n",
    "              [3, 11],\n",
    "              [3, 10],\n",
    "              [1, 7]])\n",
    "\n",
    "# Нахождение среднего значения по каждому признаку\n",
    "mean_a = np.mean(a, axis=0)\n",
    "\n",
    "# Вывод результата\n",
    "print(mean_a)"
   ]
  },
  {
   "cell_type": "markdown",
   "id": "5ee342bd-3d9a-449d-b3a1-e115f93c91bb",
   "metadata": {},
   "source": [
    "Задание 2\n",
    "Вычислите массив a_centered, отняв от значений массива “а” средние значения соответствующих признаков, содержащиеся в массиве mean_a. Вычисление должно производиться в одно действие. Получившийся массив должен иметь размер 5x2."
   ]
  },
  {
   "cell_type": "code",
   "execution_count": 4,
   "id": "6d49e073-3b3f-4314-ad26-1ae024f360b1",
   "metadata": {
    "tags": []
   },
   "outputs": [
    {
     "name": "stdout",
     "output_type": "stream",
     "text": [
      "[[-1.  -2.4]\n",
      " [ 0.  -0.4]\n",
      " [ 1.   2.6]\n",
      " [ 1.   1.6]\n",
      " [-1.  -1.4]]\n"
     ]
    }
   ],
   "source": [
    "# Вычисление массива a_centered\n",
    "a_centered = a - mean_a\n",
    "\n",
    "# Вывод результата\n",
    "print(a_centered)"
   ]
  },
  {
   "cell_type": "markdown",
   "id": "9ce4d694-4402-4065-8847-b553a852e1a8",
   "metadata": {},
   "source": [
    "Задание 3\n",
    "Найдите скалярное произведение столбцов массива a_centered. В результате должна получиться величина _centered_spa. Затем поделите a_centered_sp на N-1, где N - число наблюдений.\n"
   ]
  },
  {
   "cell_type": "code",
   "execution_count": 7,
   "id": "25f76969-caa3-4b49-ae01-f6b96067340f",
   "metadata": {
    "tags": []
   },
   "outputs": [
    {
     "name": "stdout",
     "output_type": "stream",
     "text": [
      "2.0\n"
     ]
    }
   ],
   "source": [
    "# Нахождение среднего значения по каждому признаку\n",
    "# mean_a = np.mean(a, axis=0)\n",
    "\n",
    "# Вычисление массива a_centered\n",
    "a_centered = a - mean_a\n",
    "\n",
    "# Нахождение скалярного произведения столбцов массива a_centered\n",
    "centered_sp = np.dot(a_centered[:, 0], a_centered[:, 1])\n",
    "\n",
    "# Число наблюдений\n",
    "N = a.shape[0]\n",
    "\n",
    "# Деление скалярного произведения на N-1\n",
    "centered_spa = centered_sp / (N - 1)\n",
    "\n",
    "# Вывод результата\n",
    "print(centered_spa)"
   ]
  },
  {
   "cell_type": "code",
   "execution_count": null,
   "id": "00709623-245e-4fda-9858-b8a22ab493cf",
   "metadata": {},
   "outputs": [],
   "source": [
    "Задание 4**\n",
    "Число, которое мы получили в конце задания 3 является ковариацией двух признаков, содержащихся в массиве “а”. В задании 4 мы делили сумму произведений центрированных признаков на N-1, а не на N, поэтому полученная нами величина является несмещенной оценкой ковариации.\n",
    "В этом задании проверьте получившееся число, вычислив ковариацию еще одним способом - с помощью функции np.cov. \n",
    "В качестве аргумента m функция np.cov должна принимать транспонированный массив “a”. \n",
    "В получившейся ковариационной матрице (массив Numpy размером 2x2) искомое значение ковариации будет равно элементу в строке с индексом 0 и столбце с индексом 1."
   ]
  },
  {
   "cell_type": "code",
   "execution_count": 8,
   "id": "d66aadb6-d253-4be8-9ee9-13c8e758d2b2",
   "metadata": {
    "tags": []
   },
   "outputs": [
    {
     "data": {
      "text/plain": [
       "(2.0, 2.0)"
      ]
     },
     "execution_count": 8,
     "metadata": {},
     "output_type": "execute_result"
    }
   ],
   "source": [
    "# Вычисление ковариационной матрицы с помощью np.cov\n",
    "cov_matrix = np.cov(a.T)\n",
    "\n",
    "# Вывод искомого значения ковариации\n",
    "cov_value = cov_matrix[0, 1]\n",
    "\n",
    "centered_spa, cov_value"
   ]
  },
  {
   "cell_type": "code",
   "execution_count": null,
   "id": "b3bca727-ddef-48db-963b-71d3282c8247",
   "metadata": {},
   "outputs": [],
   "source": [
    "## Тема “Работа с данными в Pandas”"
   ]
  },
  {
   "cell_type": "code",
   "execution_count": null,
   "id": "b92d7153-4316-466e-be1b-55b422b0bd43",
   "metadata": {},
   "outputs": [],
   "source": [
    "Задание 1\n",
    "Импортируйте библиотеку Pandas и дайте ей псевдоним pd. Создайте датафрейм authors со столбцами author_id и author_name, \n",
    "в которых соответственно содержатся данные: [1, 2, 3] и \n",
    "['Тургенев', 'Чехов', 'Островский'].\n",
    "Затем создайте датафрейм book cо столбцами author_id, book_title и price, в которых соответственно содержатся данные:\n",
    "[1, 1, 1, 2, 2, 3, 3],\n",
    "['Отцы и дети', 'Рудин', 'Дворянское гнездо', 'Толстый и тонкий', 'Дама с собачкой', 'Гроза', 'Таланты и поклонники']\n",
    "Нужны prices!\n",
    "[500, 400, 300, 350, 450, 600, 200]"
   ]
  },
  {
   "cell_type": "code",
   "execution_count": 18,
   "id": "ab85b4dd-c348-4432-ac82-74bd3be94863",
   "metadata": {
    "tags": []
   },
   "outputs": [
    {
     "name": "stdout",
     "output_type": "stream",
     "text": [
      "Датафрейм authors:\n",
      "   author_id author_name\n",
      "0          1    Тургенев\n",
      "1          2       Чехов\n",
      "2          3  Островский\n",
      "\n",
      "Датафрейм books:\n",
      "   author_id            book_title  price\n",
      "0          1           Отцы и дети    500\n",
      "1          1                 Рудин    400\n",
      "2          1     Дворянское гнездо    300\n",
      "3          2      Толстый и тонкий    350\n",
      "4          2       Дама с собачкой    450\n",
      "5          3                 Гроза    600\n",
      "6          3  Таланты и поклонники    200\n"
     ]
    }
   ],
   "source": [
    "import pandas as pd\n",
    "\n",
    "# Создаем датафрейм authors\n",
    "authors = pd.DataFrame({\n",
    "    'author_id': [1, 2, 3],\n",
    "    'author_name': ['Тургенев', 'Чехов', 'Островский']\n",
    "})\n",
    "\n",
    "# Создаем датафрейм books\n",
    "books = pd.DataFrame({\n",
    "    'author_id': [1, 1, 1, 2, 2, 3, 3],\n",
    "    'book_title': ['Отцы и дети', 'Рудин', 'Дворянское гнездо', 'Толстый и тонкий', 'Дама с собачкой', 'Гроза', 'Таланты и поклонники'],\n",
    "    'price': [500, 400, 300, 350, 450, 600, 200]\n",
    "})\n",
    "\n",
    "# Выводим оба датафрейма для проверки\n",
    "print(\"Датафрейм authors:\")\n",
    "print(authors)\n",
    "\n",
    "print(\"\\nДатафрейм books:\")\n",
    "print(books)"
   ]
  },
  {
   "cell_type": "markdown",
   "id": "115d0099-25cb-4f2c-83bf-c9710d9a25f4",
   "metadata": {},
   "source": [
    "Задание 2\n",
    "Получите датафрейм authors_price, соединив дата фреймы authors и books по полю author_id."
   ]
  },
  {
   "cell_type": "code",
   "execution_count": 19,
   "id": "47ce4d5c-6285-4860-b05e-9b3607873f30",
   "metadata": {
    "tags": []
   },
   "outputs": [
    {
     "name": "stdout",
     "output_type": "stream",
     "text": [
      "Объединенный датафрейм authors_price:\n",
      "   author_id author_name            book_title  price\n",
      "0          1    Тургенев           Отцы и дети    500\n",
      "1          1    Тургенев                 Рудин    400\n",
      "2          1    Тургенев     Дворянское гнездо    300\n",
      "3          2       Чехов      Толстый и тонкий    350\n",
      "4          2       Чехов       Дама с собачкой    450\n",
      "5          3  Островский                 Гроза    600\n",
      "6          3  Островский  Таланты и поклонники    200\n"
     ]
    }
   ],
   "source": [
    "# Объединяем датафреймы authors и books по полю author_id\n",
    "authors_price = pd.merge(authors, books, on='author_id')\n",
    "\n",
    "# Выводим объединенный датафрейм для проверки\n",
    "print(\"Объединенный датафрейм authors_price:\")\n",
    "print(authors_price)"
   ]
  },
  {
   "cell_type": "markdown",
   "id": "c3ef78a0-f56c-490d-af6d-8d7679f7cdda",
   "metadata": {},
   "source": [
    "Задание 3\n",
    "Создайте датафрейм top5, в котором содержатся строки из authors_price с пятью самыми дорогими книгами."
   ]
  },
  {
   "cell_type": "code",
   "execution_count": 11,
   "id": "b65cb705-5b8a-41f5-b6b6-124ca65dcb6f",
   "metadata": {
    "tags": []
   },
   "outputs": [
    {
     "name": "stdout",
     "output_type": "stream",
     "text": [
      "   author_id author_name        book_title  price\n",
      "5          3  Островский             Гроза    600\n",
      "0          1    Тургенев       Отцы и дети    500\n",
      "4          2       Чехов   Дама с собачкой    450\n",
      "1          1    Тургенев             Рудин    400\n",
      "3          2       Чехов  Толстый и тонкий    350\n"
     ]
    }
   ],
   "source": [
    "# Создание датафрейма top5 с пятью самыми дорогими книгами\n",
    "top5 = authors_price.nlargest(5, 'price')\n",
    "\n",
    "# Вывод полученного датафрейма top5\n",
    "print(top5)\n"
   ]
  },
  {
   "cell_type": "markdown",
   "id": "ee242e97-6c2d-436a-b0b2-fed50ca259a0",
   "metadata": {},
   "source": [
    "Задание 4\n",
    "Создайте датафрейм authors_stat на основе информации из authors_price. В датафрейме authors_stat должны быть четыре столбца:\n",
    "author_name, min_price, max_price и mean_price,\n",
    "в которых должны содержаться соответственно имя автора, минимальная, максимальная и средняя цена на книги этого автора."
   ]
  },
  {
   "cell_type": "code",
   "execution_count": 12,
   "id": "749503bd-85de-45ee-b992-5624f395888e",
   "metadata": {
    "tags": []
   },
   "outputs": [
    {
     "name": "stdout",
     "output_type": "stream",
     "text": [
      "  author_name  min_price  max_price  mean_price\n",
      "0  Островский        200        600       400.0\n",
      "1    Тургенев        300        500       400.0\n",
      "2       Чехов        350        450       400.0\n"
     ]
    }
   ],
   "source": [
    "# Создание датафрейма authors_stat\n",
    "authors_stat = authors_price.groupby('author_name').agg(\n",
    "    min_price=('price', 'min'),\n",
    "    max_price=('price', 'max'),\n",
    "    mean_price=('price', 'mean')\n",
    ").reset_index()\n",
    "\n",
    "# Вывод полученного датафрейма authors_stat\n",
    "print(authors_stat)\n"
   ]
  },
  {
   "cell_type": "markdown",
   "id": "c6d16792-8ee9-4247-a79f-62896b3f7979",
   "metadata": {},
   "source": [
    "Задание 5**\n",
    "Создайте новый столбец в датафрейме authors_price под названием cover, в нем будут располагаться данные о том, какая обложка у данной книги - твердая или мягкая. В этот столбец поместите данные из следующего списка:\n",
    "['твердая', 'мягкая', 'мягкая', 'твердая', 'твердая', 'мягкая', 'мягкая'].\n",
    "Просмотрите документацию по функции pd.pivot table с помощью вопросительного знака.\n",
    "Для каждого автора посчитайте суммарную стоимость книг в твердой и мягкой обложке. Используйте для этого функцию pd.pivot_table. При этом столбцы должны называться \"твердая\" и \"мягкая\", а индексами должны быть фамилии авторов. Пропущенные значения стоимостей заполните нулями, при необходимости загрузите библиотеку Numpy.\n",
    "Назовите полученный датасет book_info и сохраните его в формат pickle под названием \"book_info.pkl\". Затем загрузите из этого файла датафрейм и назовите его book_info2. Удостоверьтесь, что датафреймы book_info и book_info2 идентичны."
   ]
  },
  {
   "cell_type": "code",
   "execution_count": 28,
   "id": "957ee3c9-899d-4ba6-b002-982738b3aa1b",
   "metadata": {
    "tags": []
   },
   "outputs": [
    {
     "name": "stdout",
     "output_type": "stream",
     "text": [
      "Данные с новым столбцом 'cover':\n",
      "   author_id author_name            book_title    cover  price\n",
      "0          1    Тургенев           Отцы и дети  твердая    500\n",
      "1          1    Тургенев                 Рудин   мягкая    400\n",
      "2          1    Тургенев     Дворянское гнездо   мягкая    300\n",
      "3          2       Чехов      Толстый и тонкий  твердая    350\n",
      "4          2       Чехов       Дама с собачкой  твердая    450\n",
      "5          3  Островский                 Гроза   мягкая    600\n",
      "6          3  Островский  Таланты и поклонники   мягкая    200\n"
     ]
    }
   ],
   "source": [
    "authors_price = pd.DataFrame({\n",
    "    'author_id': [1, 1, 1, 2, 2, 3, 3],\n",
    "    'author_name': ['Тургенев', 'Тургенев', 'Тургенев', 'Чехов', 'Чехов', 'Островский', 'Островский'],\n",
    "    'book_title': ['Отцы и дети', 'Рудин', 'Дворянское гнездо', 'Толстый и тонкий', 'Дама с собачкой', 'Гроза', 'Таланты и поклонники'],\n",
    "    'price': [500, 400, 300, 350, 450, 600, 200]\n",
    "})\n",
    "\n",
    "# Создаем столбец 'cover' с указанием типа обложки\n",
    "covers = ['твердая', 'мягкая', 'мягкая', 'твердая', 'твердая', 'мягкая', 'мягкая']\n",
    "authors_price.insert(loc=3, column='cover', value=covers)\n",
    "\n",
    "print(\"Данные с новым столбцом 'cover':\")\n",
    "print(authors_price)"
   ]
  },
  {
   "cell_type": "code",
   "execution_count": 31,
   "id": "2100f166-689d-4d96-96ba-dd4a560876dc",
   "metadata": {
    "tags": []
   },
   "outputs": [
    {
     "name": "stdout",
     "output_type": "stream",
     "text": [
      "\n",
      "Сводная таблица book_info:\n",
      "cover        мягкая  твердая\n",
      "author_name                 \n",
      "Островский      800        0\n",
      "Тургенев        700      500\n",
      "Чехов             0      800\n",
      "\n",
      "Сохранено в файл 'book_info.pkl'\n"
     ]
    }
   ],
   "source": [
    "# Создаем сводную таблицу с суммарной стоимостью книг по типам обложки и авторам\n",
    "book_info = pd.pivot_table(authors_price, values='price', index='author_name', columns='cover', aggfunc='sum', fill_value=0)\n",
    "\n",
    "print(\"\\nСводная таблица book_info:\")\n",
    "print(book_info)\n",
    "\n",
    "# Сохраняем сводную таблицу в файл pickle\n",
    "book_info.to_pickle(\"book_info.pkl\")\n",
    "\n",
    "print(\"\\nСохранено в файл 'book_info.pkl'\")"
   ]
  },
  {
   "cell_type": "code",
   "execution_count": 32,
   "id": "8c122718-4d53-49fe-9b78-3c3cdf365aef",
   "metadata": {
    "tags": []
   },
   "outputs": [
    {
     "name": "stdout",
     "output_type": "stream",
     "text": [
      "\n",
      "book_info и book_info2 идентичны: True\n"
     ]
    }
   ],
   "source": [
    "# Загружаем данные из файла pickle в новый датафрейм book_info2\n",
    "book_info2 = pd.read_pickle(\"book_info.pkl\")\n",
    "\n",
    "# Проверяем идентичность датафреймов book_info и book_info2\n",
    "print(\"\\nbook_info и book_info2 идентичны:\", book_info.equals(book_info2))"
   ]
  },
  {
   "cell_type": "code",
   "execution_count": null,
   "id": "941401fd-446f-4bd5-a31f-9c4cc93927e9",
   "metadata": {},
   "outputs": [],
   "source": []
  }
 ],
 "metadata": {
  "kernelspec": {
   "display_name": "Python 3 (ipykernel)",
   "language": "python",
   "name": "python3"
  },
  "language_info": {
   "codemirror_mode": {
    "name": "ipython",
    "version": 3
   },
   "file_extension": ".py",
   "mimetype": "text/x-python",
   "name": "python",
   "nbconvert_exporter": "python",
   "pygments_lexer": "ipython3",
   "version": "3.11.5"
  }
 },
 "nbformat": 4,
 "nbformat_minor": 5
}
